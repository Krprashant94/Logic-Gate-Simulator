{
 "cells": [
  {
   "cell_type": "raw",
   "metadata": {},
   "source": [
    "# jhgjh"
   ]
  },
  {
   "cell_type": "code",
   "execution_count": null,
   "metadata": {},
   "outputs": [],
   "source": [
    "import matplotlib.pyplot as plt\n",
    "cu_mem, peak_mem = 0.0 , 0.0\n",
    "cu_mem_array, peak_mem_array = [] , []\n",
    "import tracemalloc\n",
    "\n",
    "tracemalloc.start()\n",
    "\n",
    "cu_mem, peak_mem = tracemalloc.get_traced_memory()\n",
    "cu_mem_array.append(cu_mem/(1024*1024))\n",
    "peak_mem_array.append(peak_mem/(1024*1024))\n",
    "\n",
    "print(\"Current: %f MB, Peak %f MB\" % (cu_mem/(1024*1024), peak_mem/(1024*1024)))\n",
    "a = [0 for _ in range(100)]\n",
    "\n",
    "\n",
    "cu_mem, peak_mem = tracemalloc.get_traced_memory()\n",
    "cu_mem_array.append(cu_mem/(1024*1024))\n",
    "peak_mem_array.append(peak_mem/(1024*1024))\n",
    "print(\"Current: %f MB, Peak %f MB\" % (cu_mem/(1024*1024), peak_mem/(1024*1024)))"
   ]
  },
  {
   "cell_type": "code",
   "execution_count": null,
   "metadata": {},
   "outputs": [],
   "source": [
    "for _ in range(10):\n",
    "    cu_mem, peak_mem = tracemalloc.get_traced_memory()\n",
    "    cu_mem_array.append(cu_mem/(1024*1024))\n",
    "    peak_mem_array.append(peak_mem/(1024*1024))\n",
    "    print(\"Current: %f MB, Peak %f MB\" % (cu_mem/(1024*1024), peak_mem/(1024*1024)))\n",
    "cu_mem, peak_mem = tracemalloc.get_traced_memory()\n",
    "cu_mem_array.append(cu_mem/(1024*1024))\n",
    "peak_mem_array.append(peak_mem/(1024*1024))\n",
    "print(\"Current: %f MB, Peak %f MB\" % (cu_mem/(1024*1024), peak_mem/(1024*1024)))"
   ]
  },
  {
   "cell_type": "code",
   "execution_count": null,
   "metadata": {},
   "outputs": [],
   "source": [
    "cu_mem, peak_mem = tracemalloc.get_traced_memory()\n",
    "cu_mem_array.append(cu_mem/(1024*1024))\n",
    "peak_mem_array.append(peak_mem/(1024*1024))\n",
    "print(\"Current: %f MB, Peak %f MB\" % (cu_mem/(1024*1024), peak_mem/(1024*1024)))"
   ]
  },
  {
   "cell_type": "code",
   "execution_count": null,
   "metadata": {},
   "outputs": [],
   "source": [
    "plt.plot(cu_mem_array)\n",
    "plt.plot(peak_mem_array)\n",
    "plt.show()"
   ]
  },
  {
   "cell_type": "code",
   "execution_count": null,
   "metadata": {},
   "outputs": [],
   "source": []
  }
 ],
 "metadata": {
  "kernelspec": {
   "display_name": "Python 3",
   "language": "python",
   "name": "python3"
  },
  "language_info": {
   "codemirror_mode": {
    "name": "ipython",
    "version": 3
   },
   "file_extension": ".py",
   "mimetype": "text/x-python",
   "name": "python",
   "nbconvert_exporter": "python",
   "pygments_lexer": "ipython3",
   "version": "3.6.7"
  }
 },
 "nbformat": 4,
 "nbformat_minor": 2
}
