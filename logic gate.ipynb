{
 "cells": [
  {
   "cell_type": "markdown",
   "metadata": {},
   "source": [
    "TODO: \n",
    "* Quine-McCluskey Tabular Method\n",
    "* add -> <=> and other  \n",
    "* make |__|--|__|--| waveform "
   ]
  },
  {
   "cell_type": "code",
   "execution_count": 13,
   "metadata": {
    "scrolled": true
   },
   "outputs": [
    {
     "name": "stdout",
     "output_type": "stream",
     "text": [
      "[True, False, True, False, True, False, True, True]\n",
      "[False, True, False, True, False, True, False, False]\n"
     ]
    },
    {
     "data": {
      "text/plain": [
       "[True, True, True, True, True, True, True, True]"
      ]
     },
     "execution_count": 13,
     "metadata": {},
     "output_type": "execute_result"
    }
   ],
   "source": [
    "class Logic:\n",
    "    def __init__(self, in_count, out_count, ty='GATE'):\n",
    "        self.in_count = in_count\n",
    "        self.out_count = out_count\n",
    "        self.type = ty\n",
    "    def name(self):\n",
    "        return self.__class__.__name__\n",
    "    \n",
    "    @staticmethod\n",
    "    def block_diagram(ip, op):\n",
    "        m = min(ip, op)\n",
    "        diff = abs(ip - op)\n",
    "\n",
    "        print(\"    +-----------+    \")\n",
    "        print(\"    |   Block   |    \")\n",
    "        print(\"    |  Diagram  |    \")\n",
    "        for i in range(m):\n",
    "            print(\"--->|           |--->\")\n",
    "        for i in range(diff):\n",
    "            if ip < op:\n",
    "                print(\"    |           |--->\")\n",
    "            else:\n",
    "                print(\"--->|           |    \")\n",
    "        print(\"    |           |    \")\n",
    "        print(\"    |           |    \")\n",
    "        print(\"    +-----------+    \")\n",
    "    \n",
    "    @staticmethod\n",
    "    def binary(n, logic=2):\n",
    "        val = []\n",
    "        n=n\n",
    "        c=0\n",
    "        k=0\n",
    "        for c in range(logic-1, -1, -1):\n",
    "            k = n >> c\n",
    "            if (k & 1):\n",
    "                val.append(1)\n",
    "            else:\n",
    "                val.append(0)\n",
    "        return val\n",
    "    \n",
    "    @staticmethod\n",
    "    def input_gen(in_count):\n",
    "        input_table = []\n",
    "        for i in range(2**in_count):\n",
    "            input_table.append(Logic.binary(i, logic=in_count))\n",
    "        return input_table\n",
    "    \n",
    "    @staticmethod\n",
    "    def truth_table(gate, input_table):\n",
    "        output_table = []\n",
    "        for i in input_table:\n",
    "            if gate.in_count == 1:\n",
    "                try:\n",
    "                    res = gate.operator(i[0])\n",
    "                except:\n",
    "                    res = gate.operator(i)\n",
    "            else:\n",
    "                res = i[0]\n",
    "                for j in i[1:]:\n",
    "                    res = gate.operator(res,j)\n",
    "            \n",
    "            output_table.append(res)\n",
    "\n",
    "        return output_table\n",
    "    \n",
    "    def output(self, ip_list):\n",
    "        if self.in_count == 1:\n",
    "            res = self.operator(ip_list[0])\n",
    "        else:\n",
    "            res = ip_list[0]\n",
    "            for j in ip_list[1:]:\n",
    "                res = self.operator(res,j)\n",
    "\n",
    "        return res\n",
    "\n",
    "class AND(Logic):\n",
    "    def __init__(self, in_count):\n",
    "        super().__init__(in_count, 1)\n",
    "\n",
    "    def operator(self, a, b):\n",
    "        return bool(a and b)\n",
    "    \n",
    "    \n",
    "class OR(Logic):\n",
    "    def __init__(self, in_count):\n",
    "        super().__init__(in_count, 1)\n",
    "\n",
    "    def operator(self, a, b):\n",
    "        return bool(a or b)\n",
    "    \n",
    "    \n",
    "class NOT(Logic):\n",
    "    def __init__(self,):\n",
    "        super().__init__(1, 1)\n",
    "\n",
    "    def operator(self, a):\n",
    "        return bool(not a)\n",
    "\n",
    "\n",
    "\n",
    "class NAND(Logic):\n",
    "    def __init__(self, in_count):\n",
    "        super().__init__(in_count, 1)\n",
    "\n",
    "    def operator(self, a, b):\n",
    "        return bool(not(a and b))\n",
    "    \n",
    "class NOR(Logic):\n",
    "    def __init__(self, in_count):\n",
    "        super().__init__(in_count, 1)\n",
    "\n",
    "    def operator(self, a, b):\n",
    "        return bool(not(a or b))\n",
    "    \n",
    "class XOR(Logic):\n",
    "    def __init__(self, in_count):\n",
    "        super().__init__(in_count, 1)\n",
    "\n",
    "    def operator(self, a, b):\n",
    "        return bool(((not a) and b) or (a and (not b)))\n",
    "    \n",
    "class XNOR(Logic):\n",
    "    def __init__(self, in_count):\n",
    "        super().__init__(in_count, 1)\n",
    "\n",
    "    def operator(self, a, b):\n",
    "        return bool(not(((not a) and b) or (a and (not b))))\n",
    "    \n",
    "class TRUE(Logic):\n",
    "    def __init__(self,):\n",
    "        super().__init__(1, 1, ty='INPUT')\n",
    "\n",
    "    def operator(self, a=1):\n",
    "        return True\n",
    "    \n",
    "class FALSE(Logic):\n",
    "    def __init__(self,):\n",
    "        super().__init__(1, 1, ty='INPUT')\n",
    "\n",
    "    def operator(self, a=0):\n",
    "        return False\n",
    "    \n",
    "class LED(Logic):\n",
    "    def __init__(self,):\n",
    "        super().__init__(1, 1, ty='OUTPUT')\n",
    "        \n",
    "    def operator(self, a):\n",
    "        return bool(a)\n",
    "    \n",
    "    \n",
    "op1 = Logic.truth_table(NAND(3), Logic.input_gen(3))\n",
    "op2 = Logic.truth_table(NOT(), Logic.truth_table(NAND(3), Logic.input_gen(3)))\n",
    "print(op1)\n",
    "print(op2)\n",
    "Logic.truth_table(XOR(2), zip(op1, op2))"
   ]
  },
  {
   "cell_type": "code",
   "execution_count": null,
   "metadata": {},
   "outputs": [],
   "source": []
  },
  {
   "cell_type": "code",
   "execution_count": 2,
   "metadata": {
    "scrolled": true
   },
   "outputs": [
    {
     "name": "stdout",
     "output_type": "stream",
     "text": [
      "True\n"
     ]
    }
   ],
   "source": [
    "class Circuit:\n",
    "    def __init__(self, label, gate):\n",
    "        self.dot_code = ''\n",
    "        self.label = label\n",
    "        self.gate = gate\n",
    "        self.logic_output = []\n",
    "        self.logic_input = []\n",
    "    \n",
    "\n",
    "    def tree(self, depth=0):\n",
    "        for logic_gate in self.logic_input:\n",
    "            logic_gate.tree(depth=depth+1)\n",
    "        \n",
    "        for op in self.logic_output:\n",
    "            print(self.label + '->'+op.label )\n",
    "    def output(self):\n",
    "#         print(self.gate.name())\n",
    "        chield_op = []\n",
    "        if self.gate.type == 'INPUT':\n",
    "            return self.gate.operator()\n",
    "        if self.logic_input ==[]:\n",
    "            raise ValueError(\"Input missing\")\n",
    "        for logic_gate in self.logic_input:\n",
    "            chield_op.append(logic_gate.output())\n",
    "        return self.gate.output(chield_op)\n",
    "    \n",
    "    def inlink(self, gate, logic_input):\n",
    "        self.dot_code = self.dot_code + '\\n' + gate.label+'[label=\"'+gate.gate.name()+'('+gate.label+')\", shape=box]'\n",
    "        self.dot_code = self.dot_code + '\\n' + logic_input.label+'[label=\"'+logic_input.gate.name()+'('+gate.label+')\", shape=box]'\n",
    "        self.dot_code = self.dot_code + '\\n' + logic_input.label+'->'+gate.label\n",
    "        gate.logic_input.append(logic_input)\n",
    "        logic_input.logic_output.append(gate)\n",
    "\n",
    "logic1 = Circuit('IN1', TRUE())\n",
    "logic2 = Circuit('IN2', TRUE())\n",
    "logic_and = Circuit('C', AND(2))\n",
    "logic_xor = Circuit('D', XOR(2))\n",
    "logic_xor1 = Circuit('E', XOR(2))\n",
    "logic_xor2 = Circuit('F', XOR(2))\n",
    "logic_xor3 = Circuit('G', XOR(2))\n",
    "logic_xor4 = Circuit('H', XOR(2))\n",
    "logic_led = Circuit('LED', LED())\n",
    "\n",
    "logic_led.inlink(logic_and, logic1)\n",
    "logic_led.inlink(logic_and, logic2)\n",
    "logic_led.inlink(logic_xor, logic2)\n",
    "logic_led.inlink(logic_xor1, logic_and)\n",
    "logic_led.inlink(logic_xor3, logic_xor2)\n",
    "logic_led.inlink(logic_xor3, logic_xor)\n",
    "logic_led.inlink(logic_xor2, logic1)\n",
    "logic_led.inlink(logic_xor1, logic2)\n",
    "logic_led.inlink(logic_xor2, logic_and)\n",
    "logic_led.inlink(logic_xor, logic_xor1)\n",
    "logic_led.inlink(logic_led, logic_xor)\n",
    "logic_led.inlink(logic_led, logic_xor3)\n",
    "\n",
    "# logic_led.tree()\n",
    "\n",
    "print(logic_led.output())\n",
    "\n",
    "code = \"digraph {\" + logic_led.dot_code + '\\n}'\n",
    "\n",
    "f = open(\"tmp\", 'w+')\n",
    "f.write(code)\n",
    "f.close()\n"
   ]
  },
  {
   "cell_type": "code",
   "execution_count": 3,
   "metadata": {},
   "outputs": [
    {
     "data": {
      "image/png": "[encoded data removed]",
      "text/plain": [
       "<IPython.core.display.Image object>"
      ]
     },
     "metadata": {},
     "output_type": "display_data"
    }
   ],
   "source": [
    "import os\n",
    "os.system(\"dot -Tpng tmp > output.png\")\n",
    "\n",
    "from IPython.display import display, Image\n",
    "display(Image(filename='output.png'))"
   ]
  },
  {
   "cell_type": "code",
   "execution_count": null,
   "metadata": {},
   "outputs": [],
   "source": []
  },
  {
   "cell_type": "code",
   "execution_count": null,
   "metadata": {},
   "outputs": [],
   "source": []
  },
  {
   "cell_type": "code",
   "execution_count": 4,
   "metadata": {},
   "outputs": [
    {
     "name": "stdout",
     "output_type": "stream",
     "text": [
      "    +-----------+    \n",
      "    |   Block   |    \n",
      "    |  Diagram  |    \n",
      "--->|           |--->\n",
      "--->|           |--->\n",
      "--->|           |--->\n",
      "--->|           |--->\n",
      "--->|           |--->\n",
      "    |           |--->\n",
      "    |           |--->\n",
      "    |           |--->\n",
      "    |           |--->\n",
      "    |           |--->\n",
      "    |           |    \n",
      "    |           |    \n",
      "    +-----------+    \n"
     ]
    }
   ],
   "source": [
    "Logic.block_diagram(5,10)"
   ]
  },
  {
   "cell_type": "code",
   "execution_count": null,
   "metadata": {},
   "outputs": [],
   "source": []
  },
  {
   "cell_type": "code",
   "execution_count": null,
   "metadata": {},
   "outputs": [],
   "source": []
  }
 ],
 "metadata": {
  "kernelspec": {
   "display_name": "Python 3",
   "language": "python",
   "name": "python3"
  },
  "language_info": {
   "codemirror_mode": {
    "name": "ipython",
    "version": 3
   },
   "file_extension": ".py",
   "mimetype": "text/x-python",
   "name": "python",
   "nbconvert_exporter": "python",
   "pygments_lexer": "ipython3",
   "version": "3.6.7"
  }
 },
 "nbformat": 4,
 "nbformat_minor": 2
}
